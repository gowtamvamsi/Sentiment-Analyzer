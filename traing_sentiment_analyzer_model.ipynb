{
 "cells": [
  {
   "cell_type": "code",
   "execution_count": 1,
   "metadata": {
    "_cell_guid": "b1076dfc-b9ad-4769-8c92-a6c4dae69d19",
    "_uuid": "8f2839f25d086af736a60e9eeb907d3b93b6e0e5",
    "execution": {
     "iopub.execute_input": "2020-08-30T21:07:08.986872Z",
     "iopub.status.busy": "2020-08-30T21:07:08.986152Z",
     "iopub.status.idle": "2020-08-30T21:07:09.014203Z",
     "shell.execute_reply": "2020-08-30T21:07:09.013603Z"
    },
    "papermill": {
     "duration": 0.052876,
     "end_time": "2020-08-30T21:07:09.014324",
     "exception": false,
     "start_time": "2020-08-30T21:07:08.961448",
     "status": "completed"
    },
    "tags": []
   },
   "outputs": [
    {
     "name": "stdout",
     "output_type": "stream",
     "text": [
      "/kaggle/input/glove-vectors/glove_vectors\n",
      "/kaggle/input/amazon-fine-food-reviews/hashes.txt\n",
      "/kaggle/input/amazon-fine-food-reviews/Reviews.csv\n",
      "/kaggle/input/amazon-fine-food-reviews/database.sqlite\n"
     ]
    }
   ],
   "source": [
    "# This Python 3 environment comes with many helpful analytics libraries installed\n",
    "# It is defined by the kaggle/python Docker image: https://github.com/kaggle/docker-python\n",
    "# For example, here's several helpful packages to load\n",
    "\n",
    "import numpy as np # linear algebra\n",
    "import pandas as pd # data processing, CSV file I/O (e.g. pd.read_csv)\n",
    "\n",
    "# Input data files are available in the read-only \"../input/\" directory\n",
    "# For example, running this (by clicking run or pressing Shift+Enter) will list all files under the input directory\n",
    "\n",
    "import os\n",
    "for dirname, _, filenames in os.walk('/kaggle/input'):\n",
    "    for filename in filenames:\n",
    "        print(os.path.join(dirname, filename))\n",
    "\n",
    "# You can write up to 5GB to the current directory (/kaggle/working/) that gets preserved as output when you create a version using \"Save & Run All\" \n",
    "# You can also write temporary files to /kaggle/temp/, but they won't be saved outside of the current session"
   ]
  },
  {
   "cell_type": "code",
   "execution_count": 2,
   "metadata": {
    "_cell_guid": "79c7e3d0-c299-4dcb-8224-4455121ee9b0",
    "_uuid": "d629ff2d2480ee46fbb7e2d37f6b5fab8052498a",
    "execution": {
     "iopub.execute_input": "2020-08-30T21:07:09.057549Z",
     "iopub.status.busy": "2020-08-30T21:07:09.056946Z",
     "iopub.status.idle": "2020-08-30T21:07:13.267023Z",
     "shell.execute_reply": "2020-08-30T21:07:13.266436Z"
    },
    "papermill": {
     "duration": 4.235026,
     "end_time": "2020-08-30T21:07:13.267144",
     "exception": false,
     "start_time": "2020-08-30T21:07:09.032118",
     "status": "completed"
    },
    "tags": []
   },
   "outputs": [
    {
     "name": "stdout",
     "output_type": "stream",
     "text": [
      "(568454, 10)\n"
     ]
    }
   ],
   "source": [
    "data = pd.read_csv(\"/kaggle/input/amazon-fine-food-reviews/Reviews.csv\")\n",
    "print(data.shape)"
   ]
  },
  {
   "cell_type": "code",
   "execution_count": 3,
   "metadata": {
    "execution": {
     "iopub.execute_input": "2020-08-30T21:07:13.310637Z",
     "iopub.status.busy": "2020-08-30T21:07:13.307372Z",
     "iopub.status.idle": "2020-08-30T21:07:13.318123Z",
     "shell.execute_reply": "2020-08-30T21:07:13.319540Z"
    },
    "papermill": {
     "duration": 0.035151,
     "end_time": "2020-08-30T21:07:13.319754",
     "exception": false,
     "start_time": "2020-08-30T21:07:13.284603",
     "status": "completed"
    },
    "tags": []
   },
   "outputs": [
    {
     "data": {
      "text/plain": [
       "Index(['Id', 'ProductId', 'UserId', 'ProfileName', 'HelpfulnessNumerator',\n",
       "       'HelpfulnessDenominator', 'Score', 'Time', 'Summary', 'Text'],\n",
       "      dtype='object')"
      ]
     },
     "execution_count": 3,
     "metadata": {},
     "output_type": "execute_result"
    }
   ],
   "source": [
    "data.columns"
   ]
  },
  {
   "cell_type": "code",
   "execution_count": 4,
   "metadata": {
    "execution": {
     "iopub.execute_input": "2020-08-30T21:07:13.381714Z",
     "iopub.status.busy": "2020-08-30T21:07:13.379964Z",
     "iopub.status.idle": "2020-08-30T21:07:13.557940Z",
     "shell.execute_reply": "2020-08-30T21:07:13.557177Z"
    },
    "papermill": {
     "duration": 0.212524,
     "end_time": "2020-08-30T21:07:13.558108",
     "exception": false,
     "start_time": "2020-08-30T21:07:13.345584",
     "status": "completed"
    },
    "tags": []
   },
   "outputs": [],
   "source": [
    "data = data[data['Score']!=3]"
   ]
  },
  {
   "cell_type": "code",
   "execution_count": 5,
   "metadata": {
    "execution": {
     "iopub.execute_input": "2020-08-30T21:07:13.625835Z",
     "iopub.status.busy": "2020-08-30T21:07:13.624783Z",
     "iopub.status.idle": "2020-08-30T21:07:14.132622Z",
     "shell.execute_reply": "2020-08-30T21:07:14.133901Z"
    },
    "papermill": {
     "duration": 0.546611,
     "end_time": "2020-08-30T21:07:14.134106",
     "exception": false,
     "start_time": "2020-08-30T21:07:13.587495",
     "status": "completed"
    },
    "tags": []
   },
   "outputs": [],
   "source": [
    "data['target'] = data['Score'].apply(lambda x : 1 if x>3 else 0)"
   ]
  },
  {
   "cell_type": "code",
   "execution_count": 6,
   "metadata": {
    "execution": {
     "iopub.execute_input": "2020-08-30T21:07:14.267630Z",
     "iopub.status.busy": "2020-08-30T21:07:14.266762Z",
     "iopub.status.idle": "2020-08-30T21:07:16.349465Z",
     "shell.execute_reply": "2020-08-30T21:07:16.350193Z"
    },
    "papermill": {
     "duration": 2.194449,
     "end_time": "2020-08-30T21:07:16.350405",
     "exception": false,
     "start_time": "2020-08-30T21:07:14.155956",
     "status": "completed"
    },
    "tags": []
   },
   "outputs": [
    {
     "name": "stdout",
     "output_type": "stream",
     "text": [
      "(364173, 11)\n"
     ]
    }
   ],
   "source": [
    "#Sorting data according to ProductId in ascending order\n",
    "data=data.sort_values('ProductId', axis=0, ascending=True, inplace=False, kind='quicksort', na_position='last')\n",
    "#Deduplication of entries\n",
    "data=data.drop_duplicates(subset={\"UserId\",\"ProfileName\",\"Time\",\"Text\"}, keep='first', inplace=False)\n",
    "print(data.shape)"
   ]
  },
  {
   "cell_type": "code",
   "execution_count": 7,
   "metadata": {
    "execution": {
     "iopub.execute_input": "2020-08-30T21:07:16.398712Z",
     "iopub.status.busy": "2020-08-30T21:07:16.398009Z",
     "iopub.status.idle": "2020-08-30T21:07:16.411909Z",
     "shell.execute_reply": "2020-08-30T21:07:16.411390Z"
    },
    "papermill": {
     "duration": 0.042436,
     "end_time": "2020-08-30T21:07:16.412012",
     "exception": false,
     "start_time": "2020-08-30T21:07:16.369576",
     "status": "completed"
    },
    "tags": []
   },
   "outputs": [
    {
     "data": {
      "text/html": [
       "<div>\n",
       "<style scoped>\n",
       "    .dataframe tbody tr th:only-of-type {\n",
       "        vertical-align: middle;\n",
       "    }\n",
       "\n",
       "    .dataframe tbody tr th {\n",
       "        vertical-align: top;\n",
       "    }\n",
       "\n",
       "    .dataframe thead th {\n",
       "        text-align: right;\n",
       "    }\n",
       "</style>\n",
       "<table border=\"1\" class=\"dataframe\">\n",
       "  <thead>\n",
       "    <tr style=\"text-align: right;\">\n",
       "      <th></th>\n",
       "      <th>Id</th>\n",
       "      <th>ProductId</th>\n",
       "      <th>UserId</th>\n",
       "      <th>ProfileName</th>\n",
       "      <th>HelpfulnessNumerator</th>\n",
       "      <th>HelpfulnessDenominator</th>\n",
       "      <th>Score</th>\n",
       "      <th>Time</th>\n",
       "      <th>Summary</th>\n",
       "      <th>Text</th>\n",
       "      <th>target</th>\n",
       "    </tr>\n",
       "  </thead>\n",
       "  <tbody>\n",
       "    <tr>\n",
       "      <th>150523</th>\n",
       "      <td>150524</td>\n",
       "      <td>0006641040</td>\n",
       "      <td>ACITT7DI6IDDL</td>\n",
       "      <td>shari zychinski</td>\n",
       "      <td>0</td>\n",
       "      <td>0</td>\n",
       "      <td>5</td>\n",
       "      <td>939340800</td>\n",
       "      <td>EVERY book is educational</td>\n",
       "      <td>this witty little book makes my son laugh at l...</td>\n",
       "      <td>1</td>\n",
       "    </tr>\n",
       "    <tr>\n",
       "      <th>150505</th>\n",
       "      <td>150506</td>\n",
       "      <td>0006641040</td>\n",
       "      <td>A2IW4PEEKO2R0U</td>\n",
       "      <td>Tracy</td>\n",
       "      <td>1</td>\n",
       "      <td>1</td>\n",
       "      <td>4</td>\n",
       "      <td>1194739200</td>\n",
       "      <td>Love the book, miss the hard cover version</td>\n",
       "      <td>I grew up reading these Sendak books, and watc...</td>\n",
       "      <td>1</td>\n",
       "    </tr>\n",
       "    <tr>\n",
       "      <th>150506</th>\n",
       "      <td>150507</td>\n",
       "      <td>0006641040</td>\n",
       "      <td>A1S4A3IQ2MU7V4</td>\n",
       "      <td>sally sue \"sally sue\"</td>\n",
       "      <td>1</td>\n",
       "      <td>1</td>\n",
       "      <td>4</td>\n",
       "      <td>1191456000</td>\n",
       "      <td>chicken soup with rice months</td>\n",
       "      <td>This is a fun way for children to learn their ...</td>\n",
       "      <td>1</td>\n",
       "    </tr>\n",
       "    <tr>\n",
       "      <th>150507</th>\n",
       "      <td>150508</td>\n",
       "      <td>0006641040</td>\n",
       "      <td>AZGXZ2UUK6X</td>\n",
       "      <td>Catherine Hallberg \"(Kate)\"</td>\n",
       "      <td>1</td>\n",
       "      <td>1</td>\n",
       "      <td>5</td>\n",
       "      <td>1076025600</td>\n",
       "      <td>a good swingy rhythm for reading aloud</td>\n",
       "      <td>This is a great little book to read aloud- it ...</td>\n",
       "      <td>1</td>\n",
       "    </tr>\n",
       "    <tr>\n",
       "      <th>150508</th>\n",
       "      <td>150509</td>\n",
       "      <td>0006641040</td>\n",
       "      <td>A3CMRKGE0P909G</td>\n",
       "      <td>Teresa</td>\n",
       "      <td>3</td>\n",
       "      <td>4</td>\n",
       "      <td>5</td>\n",
       "      <td>1018396800</td>\n",
       "      <td>A great way to learn the months</td>\n",
       "      <td>This is a book of poetry about the months of t...</td>\n",
       "      <td>1</td>\n",
       "    </tr>\n",
       "  </tbody>\n",
       "</table>\n",
       "</div>"
      ],
      "text/plain": [
       "            Id   ProductId          UserId                  ProfileName  \\\n",
       "150523  150524  0006641040   ACITT7DI6IDDL              shari zychinski   \n",
       "150505  150506  0006641040  A2IW4PEEKO2R0U                        Tracy   \n",
       "150506  150507  0006641040  A1S4A3IQ2MU7V4        sally sue \"sally sue\"   \n",
       "150507  150508  0006641040     AZGXZ2UUK6X  Catherine Hallberg \"(Kate)\"   \n",
       "150508  150509  0006641040  A3CMRKGE0P909G                       Teresa   \n",
       "\n",
       "        HelpfulnessNumerator  HelpfulnessDenominator  Score        Time  \\\n",
       "150523                     0                       0      5   939340800   \n",
       "150505                     1                       1      4  1194739200   \n",
       "150506                     1                       1      4  1191456000   \n",
       "150507                     1                       1      5  1076025600   \n",
       "150508                     3                       4      5  1018396800   \n",
       "\n",
       "                                           Summary  \\\n",
       "150523                   EVERY book is educational   \n",
       "150505  Love the book, miss the hard cover version   \n",
       "150506               chicken soup with rice months   \n",
       "150507      a good swingy rhythm for reading aloud   \n",
       "150508             A great way to learn the months   \n",
       "\n",
       "                                                     Text  target  \n",
       "150523  this witty little book makes my son laugh at l...       1  \n",
       "150505  I grew up reading these Sendak books, and watc...       1  \n",
       "150506  This is a fun way for children to learn their ...       1  \n",
       "150507  This is a great little book to read aloud- it ...       1  \n",
       "150508  This is a book of poetry about the months of t...       1  "
      ]
     },
     "execution_count": 7,
     "metadata": {},
     "output_type": "execute_result"
    }
   ],
   "source": [
    "data.head()"
   ]
  },
  {
   "cell_type": "code",
   "execution_count": 8,
   "metadata": {
    "execution": {
     "iopub.execute_input": "2020-08-30T21:07:16.475440Z",
     "iopub.status.busy": "2020-08-30T21:07:16.473586Z",
     "iopub.status.idle": "2020-08-30T21:07:16.476211Z",
     "shell.execute_reply": "2020-08-30T21:07:16.476722Z"
    },
    "papermill": {
     "duration": 0.046066,
     "end_time": "2020-08-30T21:07:16.476838",
     "exception": false,
     "start_time": "2020-08-30T21:07:16.430772",
     "status": "completed"
    },
    "tags": []
   },
   "outputs": [],
   "source": [
    "# https://stackoverflow.com/a/47091490/4084039\n",
    "import re\n",
    "\n",
    "def decontracted(phrase):\n",
    "    # specific\n",
    "    phrase = re.sub(r\"won't\", \"will not\", phrase)\n",
    "    phrase = re.sub(r\"can\\'t\", \"can not\", phrase)\n",
    "\n",
    "    # general\n",
    "    phrase = re.sub(r\"n\\'t\", \" not\", phrase)\n",
    "    phrase = re.sub(r\"\\'re\", \" are\", phrase)\n",
    "    phrase = re.sub(r\"\\'s\", \" is\", phrase)\n",
    "    phrase = re.sub(r\"\\'d\", \" would\", phrase)\n",
    "    phrase = re.sub(r\"\\'ll\", \" will\", phrase)\n",
    "    phrase = re.sub(r\"\\'t\", \" not\", phrase)\n",
    "    phrase = re.sub(r\"\\'ve\", \" have\", phrase)\n",
    "    phrase = re.sub(r\"\\'m\", \" am\", phrase)\n",
    "    return phrase\n",
    "\n",
    "stopwords= ['i', 'me', 'my', 'myself', 'we', 'our', 'ours', 'ourselves', 'you', \"you're\", \"you've\",\\\n",
    "            \"you'll\", \"you'd\", 'your', 'yours', 'yourself', 'yourselves', 'he', 'him', 'his', 'himself', \\\n",
    "            'she', \"she's\", 'her', 'hers', 'herself', 'it', \"it's\", 'its', 'itself', 'they', 'them', 'their',\\\n",
    "            'theirs', 'themselves', 'what', 'which', 'who', 'whom', 'this', 'that', \"that'll\", 'these', 'those', \\\n",
    "            'am', 'is', 'are', 'was', 'were', 'be', 'been', 'being', 'have', 'has', 'had', 'having', 'do', 'does', \\\n",
    "            'did', 'doing', 'a', 'an', 'the', 'and', 'but', 'if', 'or', 'because', 'as', 'until', 'while', 'of', \\\n",
    "            'at', 'by', 'for', 'with', 'about', 'against', 'between', 'into', 'through', 'during', 'before', 'after',\\\n",
    "            'above', 'below', 'to', 'from', 'up', 'down', 'in', 'out', 'on', 'off', 'over', 'under', 'again', 'further',\\\n",
    "            'then', 'once', 'here', 'there', 'when', 'where', 'why', 'how', 'all', 'any', 'both', 'each', 'few', 'more',\\\n",
    "            'most', 'other', 'some', 'such', 'only', 'own', 'same', 'so', 'than', 'too', 'very', \\\n",
    "            's', 't', 'can', 'will', 'just', 'don', \"don't\", 'should', \"should've\", 'now', 'd', 'll', 'm', 'o', 're', \\\n",
    "            've', 'y', 'ain', 'aren', \"aren't\", 'couldn', \"couldn't\", 'didn', \"didn't\", 'doesn', \"doesn't\", 'hadn',\\\n",
    "            \"hadn't\", 'hasn', \"hasn't\", 'haven', \"haven't\", 'isn', \"isn't\", 'ma', 'mightn', \"mightn't\", 'mustn',\\\n",
    "            \"mustn't\", 'needn', \"needn't\", 'shan', \"shan't\", 'shouldn', \"shouldn't\", 'wasn', \"wasn't\", 'weren', \"weren't\", \\\n",
    "            'won', \"won't\", 'wouldn', \"wouldn't\"]\n",
    "\n",
    "\n",
    "from tqdm import tqdm\n",
    "def preprocess_text(text_data):\n",
    "    preprocessed_text = []\n",
    "    for sentance in tqdm(text_data):\n",
    "        sent = decontracted(sentance)\n",
    "        sent = sent.replace('\\\\r', ' ')\n",
    "        sent = sent.replace('\\\\n', ' ')\n",
    "        sent = sent.replace('\\\\\"', ' ')\n",
    "        sent = re.sub('[^A-Za-z0-9]+', ' ', sent)\n",
    "        #sent = ' '.join(e for e in sent.split() if e.lower() not in stopwords)\n",
    "        preprocessed_text.append(sent.lower().strip())\n",
    "    return preprocessed_text"
   ]
  },
  {
   "cell_type": "code",
   "execution_count": 9,
   "metadata": {
    "execution": {
     "iopub.execute_input": "2020-08-30T21:07:16.519217Z",
     "iopub.status.busy": "2020-08-30T21:07:16.518532Z",
     "iopub.status.idle": "2020-08-30T21:07:41.049751Z",
     "shell.execute_reply": "2020-08-30T21:07:41.049162Z"
    },
    "papermill": {
     "duration": 24.553473,
     "end_time": "2020-08-30T21:07:41.049866",
     "exception": false,
     "start_time": "2020-08-30T21:07:16.496393",
     "status": "completed"
    },
    "tags": []
   },
   "outputs": [
    {
     "name": "stderr",
     "output_type": "stream",
     "text": [
      "100%|██████████| 364173/364173 [00:24<00:00, 14858.32it/s]\n"
     ]
    }
   ],
   "source": [
    "preprocessed_reviews = preprocess_text(data['Text'].values)\n",
    "labels = data['target'].values"
   ]
  },
  {
   "cell_type": "code",
   "execution_count": 10,
   "metadata": {
    "execution": {
     "iopub.execute_input": "2020-08-30T21:07:41.266523Z",
     "iopub.status.busy": "2020-08-30T21:07:41.265610Z",
     "iopub.status.idle": "2020-08-30T21:07:41.275021Z",
     "shell.execute_reply": "2020-08-30T21:07:41.274519Z"
    },
    "papermill": {
     "duration": 0.121339,
     "end_time": "2020-08-30T21:07:41.275130",
     "exception": false,
     "start_time": "2020-08-30T21:07:41.153791",
     "status": "completed"
    },
    "tags": []
   },
   "outputs": [
    {
     "data": {
      "text/plain": [
       "1    307063\n",
       "0     57110\n",
       "dtype: int64"
      ]
     },
     "execution_count": 10,
     "metadata": {},
     "output_type": "execute_result"
    }
   ],
   "source": [
    "pd.Series(labels).value_counts()"
   ]
  },
  {
   "cell_type": "code",
   "execution_count": 11,
   "metadata": {
    "execution": {
     "iopub.execute_input": "2020-08-30T21:07:41.497060Z",
     "iopub.status.busy": "2020-08-30T21:07:41.496200Z",
     "iopub.status.idle": "2020-08-30T21:08:44.532848Z",
     "shell.execute_reply": "2020-08-30T21:08:44.532188Z"
    },
    "papermill": {
     "duration": 63.152178,
     "end_time": "2020-08-30T21:08:44.533000",
     "exception": false,
     "start_time": "2020-08-30T21:07:41.380822",
     "status": "completed"
    },
    "tags": []
   },
   "outputs": [],
   "source": [
    "from keras.preprocessing.sequence import pad_sequences\n",
    "from keras.preprocessing.text import one_hot\n",
    "from keras.preprocessing.text import Tokenizer\n",
    "from sklearn.model_selection import train_test_split\n",
    "from scipy import sparse\n",
    "x_train,x_test, y_train, y_test = train_test_split(preprocessed_reviews, labels, test_size=0.2, random_state=42, stratify=labels)\n",
    "x_train,x_cv, y_train, y_cv = train_test_split(x_train, y_train, test_size=0.2, random_state=42, stratify=y_train)\n",
    "\n",
    "MAX_SEQUENCE_LENGTH = 4000\n",
    "MAX_NUM_WORDS = 20000\n",
    "tokenizer = Tokenizer(num_words=MAX_NUM_WORDS, filters='!\"#$%&()*+,-./:;<=>?@[\\\\]^`{|}~\\t\\n')\n",
    "\n",
    "tokenizer.fit_on_texts(x_train)\n",
    "\n",
    "encoded_docs_train = tokenizer.texts_to_sequences(x_train)\n",
    "padded_text_train=pad_sequences(encoded_docs_train,maxlen=MAX_SEQUENCE_LENGTH, padding=\"post\", truncating=\"post\").astype('int16')\n",
    "encoded_docs_test = tokenizer.texts_to_sequences(x_test)\n",
    "padded_text_test=pad_sequences(encoded_docs_test,maxlen=MAX_SEQUENCE_LENGTH, padding=\"post\", truncating=\"post\").astype('int16')\n",
    "encoded_docs_cv = tokenizer.texts_to_sequences(x_cv)\n",
    "padded_text_cv=pad_sequences(encoded_docs_cv,maxlen=MAX_SEQUENCE_LENGTH, padding=\"post\", truncating=\"post\").astype('int16')\n",
    "word_index = tokenizer.word_index"
   ]
  },
  {
   "cell_type": "code",
   "execution_count": 12,
   "metadata": {
    "execution": {
     "iopub.execute_input": "2020-08-30T21:08:44.749813Z",
     "iopub.status.busy": "2020-08-30T21:08:44.746015Z",
     "iopub.status.idle": "2020-08-30T21:08:44.875120Z",
     "shell.execute_reply": "2020-08-30T21:08:44.874430Z"
    },
    "papermill": {
     "duration": 0.237603,
     "end_time": "2020-08-30T21:08:44.875238",
     "exception": false,
     "start_time": "2020-08-30T21:08:44.637635",
     "status": "completed"
    },
    "tags": []
   },
   "outputs": [],
   "source": [
    "import pickle\n",
    "with open('tokenizer.pickle', 'wb') as handle:\n",
    "    pickle.dump(tokenizer, handle, protocol=pickle.HIGHEST_PROTOCOL)"
   ]
  },
  {
   "cell_type": "code",
   "execution_count": 13,
   "metadata": {
    "execution": {
     "iopub.execute_input": "2020-08-30T21:08:45.099150Z",
     "iopub.status.busy": "2020-08-30T21:08:45.098323Z",
     "iopub.status.idle": "2020-08-30T21:08:45.101470Z",
     "shell.execute_reply": "2020-08-30T21:08:45.102746Z"
    },
    "papermill": {
     "duration": 0.124698,
     "end_time": "2020-08-30T21:08:45.102928",
     "exception": false,
     "start_time": "2020-08-30T21:08:44.978230",
     "status": "completed"
    },
    "tags": []
   },
   "outputs": [
    {
     "name": "stdout",
     "output_type": "stream",
     "text": [
      "[9 6 4 ... 0 0 0]\n"
     ]
    }
   ],
   "source": [
    "print(padded_text_test[0])"
   ]
  },
  {
   "cell_type": "code",
   "execution_count": 14,
   "metadata": {
    "execution": {
     "iopub.execute_input": "2020-08-30T21:08:45.321310Z",
     "iopub.status.busy": "2020-08-30T21:08:45.320493Z",
     "iopub.status.idle": "2020-08-30T21:08:45.324364Z",
     "shell.execute_reply": "2020-08-30T21:08:45.325003Z"
    },
    "papermill": {
     "duration": 0.113659,
     "end_time": "2020-08-30T21:08:45.325130",
     "exception": false,
     "start_time": "2020-08-30T21:08:45.211471",
     "status": "completed"
    },
    "tags": []
   },
   "outputs": [
    {
     "name": "stdout",
     "output_type": "stream",
     "text": [
      "(72835, 4000)\n"
     ]
    }
   ],
   "source": [
    "print(padded_text_test.shape)"
   ]
  },
  {
   "cell_type": "code",
   "execution_count": 15,
   "metadata": {
    "execution": {
     "iopub.execute_input": "2020-08-30T21:08:45.538913Z",
     "iopub.status.busy": "2020-08-30T21:08:45.538278Z",
     "iopub.status.idle": "2020-08-30T21:08:46.119118Z",
     "shell.execute_reply": "2020-08-30T21:08:46.118538Z"
    },
    "papermill": {
     "duration": 0.690628,
     "end_time": "2020-08-30T21:08:46.119243",
     "exception": false,
     "start_time": "2020-08-30T21:08:45.428615",
     "status": "completed"
    },
    "tags": []
   },
   "outputs": [],
   "source": [
    "with open('/kaggle/input/glove-vectors/glove_vectors','rb') as f:\n",
    "    model = pickle.load(f)\n",
    "    glove_words = set(model.keys())"
   ]
  },
  {
   "cell_type": "code",
   "execution_count": 16,
   "metadata": {
    "execution": {
     "iopub.execute_input": "2020-08-30T21:08:46.337776Z",
     "iopub.status.busy": "2020-08-30T21:08:46.336981Z",
     "iopub.status.idle": "2020-08-30T21:08:47.035368Z",
     "shell.execute_reply": "2020-08-30T21:08:47.034805Z"
    },
    "papermill": {
     "duration": 0.807017,
     "end_time": "2020-08-30T21:08:47.035515",
     "exception": false,
     "start_time": "2020-08-30T21:08:46.228498",
     "status": "completed"
    },
    "tags": []
   },
   "outputs": [
    {
     "name": "stdout",
     "output_type": "stream",
     "text": [
      "/bin/sh: 1: keras: not found\r\n"
     ]
    }
   ],
   "source": [
    "!keras --version"
   ]
  },
  {
   "cell_type": "code",
   "execution_count": 17,
   "metadata": {
    "execution": {
     "iopub.execute_input": "2020-08-30T21:08:47.263822Z",
     "iopub.status.busy": "2020-08-30T21:08:47.261916Z",
     "iopub.status.idle": "2020-08-30T21:08:47.385265Z",
     "shell.execute_reply": "2020-08-30T21:08:47.386293Z"
    },
    "papermill": {
     "duration": 0.246742,
     "end_time": "2020-08-30T21:08:47.386487",
     "exception": false,
     "start_time": "2020-08-30T21:08:47.139745",
     "status": "completed"
    },
    "tags": []
   },
   "outputs": [
    {
     "name": "stdout",
     "output_type": "stream",
     "text": [
      "(20000, 300)\n"
     ]
    }
   ],
   "source": [
    "from keras.layers import Conv1D, Input, Dense, Flatten, MaxPooling1D, Embedding, Dropout, LSTM, TimeDistributed\n",
    "from keras.initializers import Constant\n",
    "num_words = min(MAX_NUM_WORDS, len(word_index) + 1)\n",
    "EMBEDDING_DIM = 300\n",
    "embedding_matrix = np.zeros((num_words, EMBEDDING_DIM))\n",
    "for word, i in (word_index.items()):\n",
    "    if i >= MAX_NUM_WORDS:\n",
    "        continue\n",
    "    embedding_vector = model.get(word)\n",
    "    if embedding_vector is not None:\n",
    "        embedding_matrix[i] = embedding_vector\n",
    "\n",
    "print(embedding_matrix.shape)\n",
    "\n",
    "embedding_layer = Embedding(num_words,\n",
    "                            EMBEDDING_DIM,\n",
    "                            embeddings_initializer=Constant(embedding_matrix),\n",
    "                            input_length=MAX_SEQUENCE_LENGTH,\n",
    "                            trainable=False)"
   ]
  },
  {
   "cell_type": "code",
   "execution_count": 18,
   "metadata": {
    "execution": {
     "iopub.execute_input": "2020-08-30T21:08:47.632267Z",
     "iopub.status.busy": "2020-08-30T21:08:47.621694Z",
     "iopub.status.idle": "2020-08-30T21:08:47.648761Z",
     "shell.execute_reply": "2020-08-30T21:08:47.648188Z"
    },
    "papermill": {
     "duration": 0.157428,
     "end_time": "2020-08-30T21:08:47.648878",
     "exception": false,
     "start_time": "2020-08-30T21:08:47.491450",
     "status": "completed"
    },
    "tags": []
   },
   "outputs": [],
   "source": [
    "from sklearn.metrics import roc_auc_score, f1_score\n",
    "import numpy as np\n",
    "class Callback(object):\n",
    "    \n",
    "    \"\"\"Abstract base class used to build new callbacks.\n",
    "      Attributes:\n",
    "          params: dict. Training parameters\n",
    "              (eg. verbosity, batch size, number of epochs...).\n",
    "          model: instance of `keras.models.Model`.\n",
    "              Reference of the model being trained.\n",
    "          validation_data: Deprecated. Do not use.\n",
    "      The `logs` dictionary that callback methods\n",
    "      take as argument will contain keys for quantities relevant to\n",
    "      the current batch or epoch.\n",
    "      Currently, the `.fit()` method of the `Model` class\n",
    "      will include the following quantities in the `logs` that\n",
    "      it passes to its callbacks:\n",
    "          on_epoch_end: logs include `acc` and `loss`, and\n",
    "          optionally include `val_loss`\n",
    "          (if validation is enabled in `fit`), and `val_acc`\n",
    "          (if validation and accuracy monitoring are enabled).\n",
    "          on_batch_begin: logs include `size`,\n",
    "          the number of samples in the current batch.\n",
    "          on_batch_end: logs include `loss`, and optionally `acc`\n",
    "            (if accuracy monitoring is enabled).\n",
    "      \"\"\"\n",
    "\n",
    "    def __init__(self, training_data, validation_data):\n",
    "        print(self)\n",
    "        self.x_tr=training_data[0]\n",
    "        self.y_tr=training_data[1]\n",
    "        self.x_val=validation_data[0]\n",
    "        self.y_val=validation_data[1]\n",
    "        self.stagnant_count=0\n",
    "        #self.validation_data = None\n",
    "        self.model = None\n",
    "        self.cnt=0\n",
    "        self.val_acc=-1\n",
    "        # Whether this Callback should only run on the chief worker in a\n",
    "        # Multi-Worker setting.\n",
    "        # TODO(omalleyt): Make this attr public once solution is stable.\n",
    "        self._chief_worker_only = None\n",
    "\n",
    "    def set_params(self, params):\n",
    "        self.params = params\n",
    "\n",
    "    def set_model(self, model):\n",
    "        self.model = model\n",
    "\n",
    "    def on_batch_begin(self, batch, logs=None):\n",
    "        \"\"\"A backwards compatibility alias for `on_train_batch_begin`.\"\"\"\n",
    "\n",
    "    def on_batch_end(self, batch, logs=None):\n",
    "        \"\"\"A backwards compatibility alias for `on_train_batch_end`.\"\"\"\n",
    "\n",
    "    def on_epoch_begin(self, epoch, logs=None):\n",
    "\n",
    "        \"\"\"Called at the start of an epoch.\n",
    "        Subclasses should override for any actions to run. This function should only\n",
    "        be called during TRAIN mode.\n",
    "        Arguments:\n",
    "            epoch: integer, index of epoch.\n",
    "            logs: dict. Currently no data is passed to this argument for this method\n",
    "              but that may change in the future.\n",
    "        \"\"\"\n",
    "        #print(self.model.get_weights())\n",
    "        #self.model.optimizer._hyper['learning_rate']=0.1\n",
    "        print('**'*50)\n",
    "        self.cnt+=1\n",
    "        if(self.cnt%3==0):\n",
    "          self.model.optimizer._hyper['learning_rate']=self.model.optimizer._hyper['learning_rate']*0.95\n",
    "          #K.set_value(self.model.optimizer.learning_rate,K.get_value(self.model.optimizer.learning_rate)*0.95)\n",
    "        #print('haha')\n",
    "        #print(K.get_value(self.model.optimizer.lr))\n",
    "\n",
    "    def on_epoch_end(self, epoch, logs={}):\n",
    "\n",
    "        \"\"\"Called at the end of an epoch.\n",
    "        Subclasses should override for any actions to run. This function should only\n",
    "        be called during TRAIN mode.\n",
    "        Arguments:\n",
    "            epoch: integer, index of epoch.\n",
    "            logs: dict, metric results for this training epoch, and for the\n",
    "              validation epoch if validation is performed. Validation result keys\n",
    "              are prefixed with `val_`.\n",
    "        \"\"\"\n",
    "        loss = logs.get('loss')\n",
    "        if loss is not None:\n",
    "          if np.isnan(loss) or np.isinf(loss):\n",
    "            print('Batch %d: Invalid loss, terminating training' % (batch))\n",
    "            self.model.stop_training = True\n",
    "            return\n",
    "        y_pred = self.model.predict_classes(self.x_tr)\n",
    "        #print(self.y_tr)\n",
    "        #print(y_pred[:5,])\n",
    "        roc = roc_auc_score(self.y_tr, y_pred)\n",
    "        y_pred_val = self.model.predict_classes(self.x_val)\n",
    "        roc_val = roc_auc_score(self.y_val, y_pred_val)\n",
    "        print('AUC score of training data '+str(roc))\n",
    "        print('AUC score of validation data '+str(roc_val))\n",
    "        print('F1-Score on training data '+str(f1_score(self.y_tr, y_pred)))\n",
    "        print('F1-Score on validation data '+str(f1_score(self.y_val, y_pred_val)))\n",
    "        #print('we are at an end, My friend')\n",
    "        if(('nan' in self.model.get_weights()) | (logs['loss']=='nan')| (logs['acc']=='nan')| (logs['val_loss']=='nan')| (logs['val_acc']=='nan')):\n",
    "          self.model.stop_training = True\n",
    "        \n",
    "        if(logs['val_acc']<self.val_acc):\n",
    "          self.model.optimizer._hyper['learning_rate']=self.model.optimizer._hyper['learning_rate']*0.9\n",
    "        if(logs['val_acc']==self.val_acc):\n",
    "          self.stagnant_count += 1\n",
    "          if(self.stagnant_count==2):\n",
    "            self.model.stop_training = True\n",
    "        else:\n",
    "          self.stagnant_count=0\n",
    "        self.val_acc=logs['val_acc']\n",
    "        print('**'*50)\n",
    "\n",
    "    def on_train_batch_begin(self, batch, logs=None):\n",
    "        \"\"\"Called at the beginning of a training batch in `fit` methods.\n",
    "        Subclasses should override for any actions to run.\n",
    "        Arguments:\n",
    "            batch: integer, index of batch within the current epoch.\n",
    "            logs: dict. Has keys `batch` and `size` representing the current batch\n",
    "              number and the size of the batch.\n",
    "        \"\"\"\n",
    "        # For backwards compatibility.\n",
    "        self.on_batch_begin(batch, logs=logs)\n",
    "\n",
    "    def on_train_batch_end(self, batch, logs=None):\n",
    "        \"\"\"Called at the end of a training batch in `fit` methods.\n",
    "        Subclasses should override for any actions to run.\n",
    "        Arguments:\n",
    "            batch: integer, index of batch within the current epoch.\n",
    "            logs: dict. Metric results for this batch.\n",
    "        \"\"\"\n",
    "        # For backwards compatibility.\n",
    "        self.on_batch_end(batch, logs=logs)\n",
    "\n",
    "    def on_test_batch_begin(self, batch, logs=None):\n",
    "        \"\"\"Called at the beginning of a batch in `evaluate` methods.\n",
    "        Also called at the beginning of a validation batch in the `fit`\n",
    "        methods, if validation data is provided.\n",
    "        Subclasses should override for any actions to run.\n",
    "        Arguments:\n",
    "            batch: integer, index of batch within the current epoch.\n",
    "            logs: dict. Has keys `batch` and `size` representing the current batch\n",
    "                  number and the size of the batch.\n",
    "        \"\"\"\n",
    "\n",
    "    def on_test_batch_end(self, batch, logs=None):\n",
    "        \"\"\"Called at the end of a batch in `evaluate` methods.\n",
    "        Also called at the end of a validation batch in the `fit`\n",
    "        methods, if validation data is provided.\n",
    "        Subclasses should override for any actions to run.\n",
    "        Arguments:\n",
    "            batch: integer, index of batch within the current epoch.\n",
    "            logs: dict. Metric results for this batch.\n",
    "        \"\"\"\n",
    "\n",
    "    def on_predict_batch_begin(self, batch, logs=None):\n",
    "        \"\"\"Called at the beginning of a batch in `predict` methods.\n",
    "        Subclasses should override for any actions to run.\n",
    "        Arguments:\n",
    "            batch: integer, index of batch within the current epoch.\n",
    "            logs: dict. Has keys `batch` and `size` representing the current batch\n",
    "                  number and the size of the batch.\n",
    "        \"\"\"\n",
    "\n",
    "    def on_predict_batch_end(self, batch, logs=None):\n",
    "        \"\"\"Called at the end of a batch in `predict` methods.\n",
    "        Subclasses should override for any actions to run.\n",
    "        Arguments:\n",
    "            batch: integer, index of batch within the current epoch.\n",
    "            logs: dict. Metric results for this batch.\n",
    "        \"\"\"\n",
    "\n",
    "    def on_train_begin(self, logs=None):\n",
    "        \"\"\"Called at the beginning of training.\n",
    "        Subclasses should override for any actions to run.\n",
    "        Arguments:\n",
    "            logs: dict. Currently no data is passed to this argument for this method\n",
    "                  but that may change in the future.\n",
    "        \"\"\"\n",
    "\n",
    "    def on_train_end(self, logs=None):\n",
    "        \"\"\"Called at the end of training.\n",
    "        Subclasses should override for any actions to run.\n",
    "        Arguments:\n",
    "            logs: dict. Currently no data is passed to this argument for this method\n",
    "                  but that may change in the future.\n",
    "        \"\"\"\n",
    "\n",
    "    def on_test_begin(self, logs=None):\n",
    "        \"\"\"Called at the beginning of evaluation or validation.\n",
    "        Subclasses should override for any actions to run.\n",
    "        Arguments:\n",
    "            logs: dict. Currently no data is passed to this argument for this method\n",
    "              but that may change in the future.\n",
    "        \"\"\"\n",
    "\n",
    "    def on_test_end(self, logs=None):\n",
    "        \"\"\"Called at the end of evaluation or validation.\n",
    "        Subclasses should override for any actions to run.\n",
    "        Arguments:\n",
    "            logs: dict. Currently no data is passed to this argument for this method\n",
    "              but that may change in the future.\n",
    "        \"\"\"\n",
    "\n",
    "    def on_predict_begin(self, logs=None):\n",
    "        \"\"\"Called at the beginning of prediction.\n",
    "        Subclasses should override for any actions to run.\n",
    "        Arguments:\n",
    "            logs: dict. Currently no data is passed to this argument for this method\n",
    "              but that may change in the future.\n",
    "        \"\"\"\n",
    "\n",
    "    def on_predict_end(self, logs=None):\n",
    "        \"\"\"Called at the end of prediction.\n",
    "        Subclasses should override for any actions to run.\n",
    "        Arguments:\n",
    "            logs: dict. Currently no data is passed to this argument for this method\n",
    "              but that may change in the future.\n",
    "    \"\"\""
   ]
  },
  {
   "cell_type": "code",
   "execution_count": 19,
   "metadata": {
    "execution": {
     "iopub.execute_input": "2020-08-30T21:08:47.868735Z",
     "iopub.status.busy": "2020-08-30T21:08:47.867803Z",
     "iopub.status.idle": "2020-08-30T21:08:51.122109Z",
     "shell.execute_reply": "2020-08-30T21:08:51.122829Z"
    },
    "papermill": {
     "duration": 3.368388,
     "end_time": "2020-08-30T21:08:51.123019",
     "exception": false,
     "start_time": "2020-08-30T21:08:47.754631",
     "status": "completed"
    },
    "tags": []
   },
   "outputs": [
    {
     "name": "stdout",
     "output_type": "stream",
     "text": [
      "(None, 4000, 300)\n",
      "(None, 4000, 100)\n",
      "(None, 1)\n"
     ]
    }
   ],
   "source": [
    "from keras.layers.merge import concatenate\n",
    "from keras.models import Model\n",
    "primary_input = Input(shape=(MAX_SEQUENCE_LENGTH,))\n",
    "embedding = embedding_layer(primary_input)\n",
    "print(embedding.shape)\n",
    "lstm  = LSTM(100, activation=\"tanh\", return_sequences=True)(embedding)\n",
    "print(lstm.shape)\n",
    "td = TimeDistributed(Dense(32, activation='relu'))(lstm)\n",
    "flat = Flatten()(td)\n",
    "dense1 = Dense(64, activation='relu')(flat)\n",
    "dropout = Dropout(0.2)(dense1)\n",
    "output = Dense(1, activation='sigmoid')(dropout)\n",
    "print(output.shape)"
   ]
  },
  {
   "cell_type": "code",
   "execution_count": 20,
   "metadata": {
    "execution": {
     "iopub.execute_input": "2020-08-30T21:08:51.398082Z",
     "iopub.status.busy": "2020-08-30T21:08:51.396274Z",
     "iopub.status.idle": "2020-08-30T21:08:51.575862Z",
     "shell.execute_reply": "2020-08-30T21:08:51.574333Z"
    },
    "papermill": {
     "duration": 0.339592,
     "end_time": "2020-08-30T21:08:51.576036",
     "exception": false,
     "start_time": "2020-08-30T21:08:51.236444",
     "status": "completed"
    },
    "tags": []
   },
   "outputs": [
    {
     "name": "stdout",
     "output_type": "stream",
     "text": [
      "Model: \"functional_1\"\n",
      "_________________________________________________________________\n",
      "Layer (type)                 Output Shape              Param #   \n",
      "=================================================================\n",
      "input_1 (InputLayer)         [(None, 4000)]            0         \n",
      "_________________________________________________________________\n",
      "embedding (Embedding)        (None, 4000, 300)         6000000   \n",
      "_________________________________________________________________\n",
      "lstm (LSTM)                  (None, 4000, 100)         160400    \n",
      "_________________________________________________________________\n",
      "time_distributed (TimeDistri (None, 4000, 32)          3232      \n",
      "_________________________________________________________________\n",
      "flatten (Flatten)            (None, 128000)            0         \n",
      "_________________________________________________________________\n",
      "dense_1 (Dense)              (None, 64)                8192064   \n",
      "_________________________________________________________________\n",
      "dropout (Dropout)            (None, 64)                0         \n",
      "_________________________________________________________________\n",
      "dense_2 (Dense)              (None, 1)                 65        \n",
      "=================================================================\n",
      "Total params: 14,355,761\n",
      "Trainable params: 8,355,761\n",
      "Non-trainable params: 6,000,000\n",
      "_________________________________________________________________\n",
      "None\n"
     ]
    }
   ],
   "source": [
    "model = Model(inputs=primary_input, outputs=output)\n",
    "print(model.summary())"
   ]
  },
  {
   "cell_type": "code",
   "execution_count": 21,
   "metadata": {
    "execution": {
     "iopub.execute_input": "2020-08-30T21:08:51.944874Z",
     "iopub.status.busy": "2020-08-30T21:08:51.943819Z",
     "iopub.status.idle": "2020-08-30T22:23:24.123049Z",
     "shell.execute_reply": "2020-08-30T22:23:24.122475Z"
    },
    "papermill": {
     "duration": 4472.36502,
     "end_time": "2020-08-30T22:23:24.123160",
     "exception": false,
     "start_time": "2020-08-30T21:08:51.758140",
     "status": "completed"
    },
    "tags": []
   },
   "outputs": [
    {
     "name": "stdout",
     "output_type": "stream",
     "text": [
      "<__main__.Callback object at 0x7f7ecb060510>\n",
      "Epoch 1/5\n",
      "2331/2331 [==============================] - 895s 384ms/step - loss: 0.1913 - accuracy: 0.9236 - auc: 0.9516 - val_loss: 0.1468 - val_accuracy: 0.9412 - val_auc: 0.9737\n",
      "Epoch 2/5\n",
      "2331/2331 [==============================] - 896s 384ms/step - loss: 0.1300 - accuracy: 0.9504 - auc: 0.9778 - val_loss: 0.1284 - val_accuracy: 0.9492 - val_auc: 0.9804\n",
      "Epoch 3/5\n",
      "2331/2331 [==============================] - 889s 381ms/step - loss: 0.1076 - accuracy: 0.9593 - auc: 0.9846 - val_loss: 0.1237 - val_accuracy: 0.9522 - val_auc: 0.9794\n",
      "Epoch 4/5\n",
      "2331/2331 [==============================] - 891s 382ms/step - loss: 0.0898 - accuracy: 0.9658 - auc: 0.9890 - val_loss: 0.1244 - val_accuracy: 0.9539 - val_auc: 0.9786\n",
      "Epoch 5/5\n",
      "2331/2331 [==============================] - 889s 381ms/step - loss: 0.0735 - accuracy: 0.9720 - auc: 0.9925 - val_loss: 0.1397 - val_accuracy: 0.9536 - val_auc: 0.9732\n"
     ]
    },
    {
     "data": {
      "text/plain": [
       "<tensorflow.python.keras.callbacks.History at 0x7f7ecb06fc90>"
      ]
     },
     "execution_count": 21,
     "metadata": {},
     "output_type": "execute_result"
    }
   ],
   "source": [
    "import keras\n",
    "callback = Callback(training_data=(padded_text_train, y_train),validation_data=(padded_text_cv, y_cv))\n",
    "model.compile(optimizer='adam', loss='binary_crossentropy', metrics=['accuracy', keras.metrics.AUC()])\n",
    "model.fit(padded_text_train, y_train,\n",
    "          batch_size=100,\n",
    "          epochs=5, \n",
    "          validation_data = (padded_text_cv, y_cv),\n",
    "          verbose =1\n",
    "         )"
   ]
  },
  {
   "cell_type": "code",
   "execution_count": 22,
   "metadata": {
    "execution": {
     "iopub.execute_input": "2020-08-30T22:23:32.654358Z",
     "iopub.status.busy": "2020-08-30T22:23:32.652950Z",
     "iopub.status.idle": "2020-08-30T22:23:36.218412Z",
     "shell.execute_reply": "2020-08-30T22:23:36.217675Z"
    },
    "papermill": {
     "duration": 7.996341,
     "end_time": "2020-08-30T22:23:36.218542",
     "exception": false,
     "start_time": "2020-08-30T22:23:28.222201",
     "status": "completed"
    },
    "tags": []
   },
   "outputs": [],
   "source": [
    "model.save('model.h5')"
   ]
  }
 ],
 "metadata": {
  "kernelspec": {
   "display_name": "Python 3",
   "language": "python",
   "name": "python3"
  },
  "language_info": {
   "codemirror_mode": {
    "name": "ipython",
    "version": 3
   },
   "file_extension": ".py",
   "mimetype": "text/x-python",
   "name": "python",
   "nbconvert_exporter": "python",
   "pygments_lexer": "ipython3",
   "version": "3.7.6"
  },
  "papermill": {
   "duration": 4597.579384,
   "end_time": "2020-08-30T22:23:42.283144",
   "environment_variables": {},
   "exception": null,
   "input_path": "__notebook__.ipynb",
   "output_path": "__notebook__.ipynb",
   "parameters": {},
   "start_time": "2020-08-30T21:07:04.703760",
   "version": "2.1.0"
  }
 },
 "nbformat": 4,
 "nbformat_minor": 4
}
